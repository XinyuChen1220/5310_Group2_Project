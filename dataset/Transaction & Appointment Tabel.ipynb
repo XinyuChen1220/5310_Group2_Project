{
 "cells": [
  {
   "cell_type": "code",
   "execution_count": 1,
   "id": "e1ea569a",
   "metadata": {},
   "outputs": [],
   "source": [
    "import pandas as pd"
   ]
  },
  {
   "cell_type": "code",
   "execution_count": 2,
   "id": "732d5e70",
   "metadata": {},
   "outputs": [],
   "source": [
    "# Load the transactions table\n",
    "transactions = pd.read_csv('/Users/juliejin/Downloads/transactions.csv')"
   ]
  },
  {
   "cell_type": "code",
   "execution_count": 3,
   "id": "fc43e30f",
   "metadata": {},
   "outputs": [],
   "source": [
    "# Filter transactions where status is either 'rented' or 'sold'\n",
    "filtered_transactions = transactions[transactions['Status'].isin(['rented', 'sold'])]"
   ]
  },
  {
   "cell_type": "code",
   "execution_count": 4,
   "id": "23d21dfa",
   "metadata": {},
   "outputs": [
    {
     "name": "stderr",
     "output_type": "stream",
     "text": [
      "/var/folders/5d/qz0mj4rs7ssb7f85w1q512q80000gn/T/ipykernel_37668/3042340396.py:2: SettingWithCopyWarning: \n",
      "A value is trying to be set on a copy of a slice from a DataFrame.\n",
      "Try using .loc[row_indexer,col_indexer] = value instead\n",
      "\n",
      "See the caveats in the documentation: https://pandas.pydata.org/pandas-docs/stable/user_guide/indexing.html#returning-a-view-versus-a-copy\n",
      "  filtered_transactions['Revenue'] = filtered_transactions['Final Price'] * (filtered_transactions['Agent Fee Percentage'] / 100)\n"
     ]
    }
   ],
   "source": [
    "# Calculate the revenue\n",
    "filtered_transactions['Revenue'] = filtered_transactions['Final Price'] * (filtered_transactions['Agent Fee Percentage'] / 100)"
   ]
  },
  {
   "cell_type": "code",
   "execution_count": 5,
   "id": "4d767194",
   "metadata": {},
   "outputs": [],
   "source": [
    "# Select only the needed columns and rename \n",
    "cleaned_transactions = filtered_transactions.rename(columns={\n",
    "    'Listing ID': 'listing_id',\n",
    "    'Date of Transaction': 'time',\n",
    "    'Final Price': 'price'\n",
    "})[['listing_id', 'Employee Name', 'Client Name', 'time', 'price', 'Revenue']]"
   ]
  },
  {
   "cell_type": "code",
   "execution_count": 6,
   "id": "68e991f2",
   "metadata": {},
   "outputs": [],
   "source": [
    "# Save the cleaned transation data as new csv\n",
    "cleaned_transactions.to_csv('/Users/juliejin/Downloads/transaction_cleaned.csv', index=False)"
   ]
  },
  {
   "cell_type": "code",
   "execution_count": 7,
   "id": "56a22421",
   "metadata": {},
   "outputs": [
    {
     "name": "stderr",
     "output_type": "stream",
     "text": [
      "/var/folders/5d/qz0mj4rs7ssb7f85w1q512q80000gn/T/ipykernel_37668/2136586958.py:3: SettingWithCopyWarning: \n",
      "A value is trying to be set on a copy of a slice from a DataFrame.\n",
      "Try using .loc[row_indexer,col_indexer] = value instead\n",
      "\n",
      "See the caveats in the documentation: https://pandas.pydata.org/pandas-docs/stable/user_guide/indexing.html#returning-a-view-versus-a-copy\n",
      "  filtered_transactions['Date of Transaction'] = pd.to_datetime(filtered_transactions['Date of Transaction'])\n"
     ]
    }
   ],
   "source": [
    "from datetime import timedelta\n",
    "# Convert the 'Date of Transaction' to datetime format\n",
    "filtered_transactions['Date of Transaction'] = pd.to_datetime(filtered_transactions['Date of Transaction'])"
   ]
  },
  {
   "cell_type": "code",
   "execution_count": 8,
   "id": "5cdc631e",
   "metadata": {},
   "outputs": [],
   "source": [
    "# Adjust the time\n",
    "appointment_table = filtered_transactions[['Employee Name', 'Client Name', 'Listing ID']].copy()\n",
    "appointment_table['time'] = filtered_transactions['Date of Transaction'] - timedelta(days=1)\n",
    "appointment_table = appointment_table.rename(columns={'Listing ID': 'listing_id'})\n"
   ]
  },
  {
   "cell_type": "code",
   "execution_count": 9,
   "id": "24fb2b03",
   "metadata": {},
   "outputs": [],
   "source": [
    "# Save the appointment data to a new CSV table\n",
    "appointment_table.to_csv('/Users/juliejin/Downloads//appointments.csv', index=False)"
   ]
  }
 ],
 "metadata": {
  "kernelspec": {
   "display_name": "Python 3 (ipykernel)",
   "language": "python",
   "name": "python3"
  },
  "language_info": {
   "codemirror_mode": {
    "name": "ipython",
    "version": 3
   },
   "file_extension": ".py",
   "mimetype": "text/x-python",
   "name": "python",
   "nbconvert_exporter": "python",
   "pygments_lexer": "ipython3",
   "version": "3.11.7"
  }
 },
 "nbformat": 4,
 "nbformat_minor": 5
}
