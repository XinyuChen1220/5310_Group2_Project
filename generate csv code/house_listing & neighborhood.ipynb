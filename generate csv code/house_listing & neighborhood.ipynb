{
 "cells": [
  {
   "cell_type": "markdown",
   "id": "7519b192-b76a-4c94-835f-a7c4b58655e1",
   "metadata": {},
   "source": [
    "### house_listing table"
   ]
  },
  {
   "cell_type": "markdown",
   "id": "4fd28b4e-d40f-4a17-8743-513c2ae42669",
   "metadata": {},
   "source": [
    "### Adding State Column to house_listing table"
   ]
  },
  {
   "cell_type": "code",
   "execution_count": 7,
   "id": "4a9a3230-c20b-435f-82d5-f5209d33f68b",
   "metadata": {},
   "outputs": [],
   "source": [
    "import pandas as pd\n",
    "import numpy as np"
   ]
  },
  {
   "cell_type": "code",
   "execution_count": 8,
   "id": "254fea36-70ce-4c7a-bbe2-4db0489333c3",
   "metadata": {},
   "outputs": [],
   "source": [
    "#load home_listings data\n",
    "df = pd.read_csv('/Users/jiangqianqian/Desktop/home_listings.csv')"
   ]
  },
  {
   "cell_type": "code",
   "execution_count": 9,
   "id": "8fe1a1c6-9c82-47f2-b0e8-b20274118d6e",
   "metadata": {},
   "outputs": [],
   "source": [
    "# Map cities to their corresponding states\n",
    "state_map = {\n",
    "    'Albany': 'NY',\n",
    "    'Bridgeport': 'CT',\n",
    "    'Buffalo': 'NY',\n",
    "    'Elizabeth': 'NJ',\n",
    "    'Hartford': 'CT',\n",
    "    'Jersey City': 'NJ',\n",
    "    'New Haven': 'CT',\n",
    "    'New York': 'NY',\n",
    "    'Newark': 'NJ',\n",
    "    'Paterson': 'NJ',\n",
    "    'Rochester': 'NY',\n",
    "    'Stamford': 'CT',\n",
    "    'Syracuse': 'NY',\n",
    "    'Trenton': 'NJ',\n",
    "    'Waterbury': 'CT'\n",
    "}"
   ]
  },
  {
   "cell_type": "code",
   "execution_count": 10,
   "id": "337528eb-786e-4682-af77-3211e72f2809",
   "metadata": {},
   "outputs": [],
   "source": [
    "# Save cleaned listings data\n",
    "df.to_csv('/Users/jiangqianqian/Desktop/home_listings_cleaned.csv', index=False)"
   ]
  },
  {
   "cell_type": "markdown",
   "id": "9224a569-c69e-4a1b-abeb-99f8772a3aec",
   "metadata": {},
   "source": [
    "### neighborhood table"
   ]
  },
  {
   "cell_type": "code",
   "execution_count": 12,
   "id": "c22b77b9-fdc5-480f-bce3-4b55ea0664fc",
   "metadata": {},
   "outputs": [],
   "source": [
    "# Load cleaned listings data and other datasets\n",
    "df1 = pd.read_csv('/Users/jiangqianqian/Desktop/home_listings_cleaned.csv')\n",
    "df2 = pd.read_csv('/Users/jiangqianqian/Desktop/office_expenses.csv')\n",
    "df3 = pd.read_csv('/Users/jiangqianqian/Desktop/school.csv')"
   ]
  },
  {
   "cell_type": "code",
   "execution_count": 13,
   "id": "b818a09e-2612-4c58-b550-d39f655e4be0",
   "metadata": {},
   "outputs": [],
   "source": [
    "# Standardize address columns across dataframes\n",
    "df2.rename(columns={'Address': 'Street'}, inplace=True)\n",
    "df3.rename(columns={'street': 'Street', 'city': 'City', 'state': 'State'}, inplace=True)"
   ]
  },
  {
   "cell_type": "code",
   "execution_count": 14,
   "id": "0d097d0a-cb05-489b-ba52-e80fea8839f0",
   "metadata": {},
   "outputs": [],
   "source": [
    "# Remove duplicates and extract relevant columns from each dataframe\n",
    "dfs = [df1, df2, df3]\n",
    "dfs = [df[['Street', 'City', 'State']].drop_duplicates() for df in dfs]"
   ]
  },
  {
   "cell_type": "code",
   "execution_count": 15,
   "id": "1ca6405c-f341-459d-ac47-2a5102fac81b",
   "metadata": {},
   "outputs": [],
   "source": [
    "# Combine and deduplicate addresses\n",
    "combined_df = pd.concat(dfs, ignore_index=True).drop_duplicates()"
   ]
  },
  {
   "cell_type": "code",
   "execution_count": 16,
   "id": "756ad8c8-20ad-491d-89fa-9cdd62101eef",
   "metadata": {},
   "outputs": [],
   "source": [
    "# Randomly assign neighborhood names based on the state\n",
    "# Define lists of neighborhood names for New York (NY)\n",
    "ny_neighborhoods = [\"Lower West Side\", \"Lower East Side\", \"Midtown West\", \"Midtown East\", \n",
    "                    \"Upper West Side\", \"Upper East Side\", \"Downtown Manhattan\", \"Downtown Brooklyn\",\n",
    "                    \"Northern Queens\", \"South Bronx\", \"West Bronx\", \"East Bronx\",\n",
    "                    \"North Staten Island\", \"South Staten Island\"]\n",
    "\n",
    "# Define lists of neighborhood names for New Jersey (NJ)\n",
    "nj_neighborhoods = [\"East Elizabeth\", \"Mid New Brunswick\", \"South Trenton\", \"Downtown Camden\"]\n",
    "\n",
    "# Define lists of neighborhood names for Connecticut (CT)\n",
    "ct_neighborhoods = [\"Downtown Stamford\", \"South Norwalk\", \"North New Haven\", \"East Hartford\",\n",
    "                    \"Downtown New London\"]\n",
    "\n",
    "# Define a function to assign a random neighborhood based on the state of the row entry\n",
    "def assign_neighborhood(row):\n",
    "    if row['State'] == 'NY':\n",
    "        return np.random.choice(ny_neighborhoods)\n",
    "    elif row['State'] == 'NJ':\n",
    "        return np.random.choice(nj_neighborhoods)\n",
    "    elif row['State'] == 'CT':\n",
    "        return np.random.choice(ct_neighborhoods)\n",
    "\n",
    "# Apply the function to each row in the dataframe to assign neighborhoods\n",
    "combined_df['neighborhood_name'] = combined_df.apply(assign_neighborhood, axis=1)"
   ]
  },
  {
   "cell_type": "code",
   "execution_count": 17,
   "id": "01f1af7c-fb7b-4232-a478-c7faa2ed555f",
   "metadata": {},
   "outputs": [],
   "source": [
    "# Assign random crime rates\n",
    "combined_df['crime_rate'] = np.round(np.random.uniform(1, 10, len(combined_df)), 1)"
   ]
  },
  {
   "cell_type": "code",
   "execution_count": 18,
   "id": "504faf5a-b992-4523-83c3-42faa09d5974",
   "metadata": {},
   "outputs": [],
   "source": [
    "# Generate unique crime rates for each neighborhood and update the dataset\n",
    "unique_neighborhoods = combined_df['neighborhood_name'].unique()\n",
    "crime_rates = np.round(np.random.uniform(1, 10, size=len(unique_neighborhoods)), 1)\n",
    "crime_rate_map = dict(zip(unique_neighborhoods, crime_rates))\n",
    "combined_df['crime_rate'] = combined_df['neighborhood_name'].map(crime_rate_map)"
   ]
  },
  {
   "cell_type": "code",
   "execution_count": 20,
   "id": "24d57f37-a8e8-4cbc-8f6c-e2ebe3dea838",
   "metadata": {},
   "outputs": [],
   "source": [
    "# Save the final version of the neighborhood data\n",
    "combined_df.to_csv('/Users/jiangqianqian/Desktop/neighborhood.csv', index=False)"
   ]
  },
  {
   "cell_type": "code",
   "execution_count": null,
   "id": "afa28e0d-a6e5-4ed2-b26a-d89e66e45278",
   "metadata": {},
   "outputs": [],
   "source": []
  }
 ],
 "metadata": {
  "kernelspec": {
   "display_name": "Python 3 (ipykernel)",
   "language": "python",
   "name": "python3"
  },
  "language_info": {
   "codemirror_mode": {
    "name": "ipython",
    "version": 3
   },
   "file_extension": ".py",
   "mimetype": "text/x-python",
   "name": "python",
   "nbconvert_exporter": "python",
   "pygments_lexer": "ipython3",
   "version": "3.11.5"
  }
 },
 "nbformat": 4,
 "nbformat_minor": 5
}
